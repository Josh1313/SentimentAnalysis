{
 "cells": [
  {
   "cell_type": "code",
   "execution_count": null,
   "id": "37650f49",
   "metadata": {},
   "outputs": [],
   "source": [
    "\n",
    "import pandas as pd\n",
    "import random\n",
    "import openai\n",
    "import chardet\n",
    "import re\n",
    "import time\n",
    "import tiktoken\n",
    "from ast import literal_eval\n",
    "import matplotlib.pyplot as plt\n",
    "from sentence_transformers import SentenceTransformer\n",
    "from sklearn.cluster import KMeans\n",
    "from tqdm import tqdm\n",
    "from openai.error import RateLimitError, APIError\n",
    "encoding = tiktoken.encoding_for_model(\"text-embedding-3-small\")\n",
    "MAX_TOKENS = 8000\n"
   ]
  },
  {
   "cell_type": "code",
   "execution_count": 39,
   "id": "8a938704",
   "metadata": {},
   "outputs": [],
   "source": [
    "def clean_description(text):\n",
    "    text = str(text).lower()\n",
    "    # Remove URLs\n",
    "    text = re.sub(r'https?://\\S+', '', text)\n",
    "    # Remove line breaks / tabs\n",
    "    text = re.sub(r'[\\r\\n\\t]', ' ', text)\n",
    "    # Remove words with digits (e.g. device codes)\n",
    "    text = re.sub(r'\\b\\w*\\d\\w*\\b', ' ', text)\n",
    "    # Remove all remaining non-alphanumerics\n",
    "    text = re.sub(r'[^a-z ]+', ' ', text)\n",
    "    # Collapse multiple spaces\n",
    "    text = re.sub(r'\\s+', ' ', text).strip()\n",
    "    return text"
   ]
  },
  {
   "cell_type": "code",
   "execution_count": 40,
   "id": "fc9ef03f",
   "metadata": {},
   "outputs": [],
   "source": [
    "# Extract numeric priority\n",
    "def clean_priority(val):\n",
    "    val = str(val)\n",
    "    return int(''.join(filter(str.isdigit, val))) if any(char.isdigit() for char in val) else None"
   ]
  },
  {
   "cell_type": "code",
   "execution_count": 41,
   "id": "3089da8c",
   "metadata": {},
   "outputs": [
    {
     "data": {
      "text/html": [
       "<div>\n",
       "<style scoped>\n",
       "    .dataframe tbody tr th:only-of-type {\n",
       "        vertical-align: middle;\n",
       "    }\n",
       "\n",
       "    .dataframe tbody tr th {\n",
       "        vertical-align: top;\n",
       "    }\n",
       "\n",
       "    .dataframe thead th {\n",
       "        text-align: right;\n",
       "    }\n",
       "</style>\n",
       "<table border=\"1\" class=\"dataframe\">\n",
       "  <thead>\n",
       "    <tr style=\"text-align: right;\">\n",
       "      <th></th>\n",
       "      <th>number</th>\n",
       "      <th>short_description</th>\n",
       "      <th>description</th>\n",
       "      <th>priority</th>\n",
       "      <th>u_region</th>\n",
       "      <th>u_division</th>\n",
       "      <th>cmdb_ci</th>\n",
       "      <th>u_close_code</th>\n",
       "    </tr>\n",
       "  </thead>\n",
       "  <tbody>\n",
       "    <tr>\n",
       "      <th>0</th>\n",
       "      <td>INC6658799</td>\n",
       "      <td>Mobile Office | My error is not listed / repor...</td>\n",
       "      <td>This ticket was created by a store employee, s...</td>\n",
       "      <td>Prio 3</td>\n",
       "      <td>GB</td>\n",
       "      <td>LDL</td>\n",
       "      <td>ST-MDE</td>\n",
       "      <td>Resolved by Problem Ticket</td>\n",
       "    </tr>\n",
       "    <tr>\n",
       "      <th>1</th>\n",
       "      <td>INC7053991</td>\n",
       "      <td>VLC-3056-Mobile Office – PDA Terminal - Honeywell</td>\n",
       "      <td>Here  we have exactly the same incident as INC...</td>\n",
       "      <td>Prio 3</td>\n",
       "      <td>ES</td>\n",
       "      <td>LDL</td>\n",
       "      <td>ST-MDE</td>\n",
       "      <td>Solved - Error did not appear again</td>\n",
       "    </tr>\n",
       "    <tr>\n",
       "      <th>2</th>\n",
       "      <td>INC7170689</td>\n",
       "      <td>LFR - Store 1696 - WH08 - Honeywell Mobile Dev...</td>\n",
       "      <td>The mobile device 21342B62DB on store 1696, wa...</td>\n",
       "      <td>Prio 3</td>\n",
       "      <td>FR</td>\n",
       "      <td>LDL</td>\n",
       "      <td>ST-MDE</td>\n",
       "      <td>Works as designed</td>\n",
       "    </tr>\n",
       "    <tr>\n",
       "      <th>3</th>\n",
       "      <td>INC7181866</td>\n",
       "      <td>Store 2507 - WH11 - Honeywell Mobile Device Lo...</td>\n",
       "      <td>Mobile device (21349B1921) locked in landscape...</td>\n",
       "      <td>Prio 3</td>\n",
       "      <td>FR</td>\n",
       "      <td>LDL</td>\n",
       "      <td>ST-MDE</td>\n",
       "      <td>Works as designed</td>\n",
       "    </tr>\n",
       "    <tr>\n",
       "      <th>4</th>\n",
       "      <td>INC7185888</td>\n",
       "      <td>LFR - Store 3660 - WH12 - Honeywell Device - T...</td>\n",
       "      <td>Since the Android 10 update on the 21172B39DD ...</td>\n",
       "      <td>Prio 3</td>\n",
       "      <td>FR</td>\n",
       "      <td>LDL</td>\n",
       "      <td>ST-MDE</td>\n",
       "      <td>Works as designed</td>\n",
       "    </tr>\n",
       "    <tr>\n",
       "      <th>5</th>\n",
       "      <td>INC7255265</td>\n",
       "      <td>2659 - MUZILLAC - DR07 - INP MOBI # S/N : 2117...</td>\n",
       "      <td>--------------- LIDL ---------------\\r\\n&gt; Expé...</td>\n",
       "      <td>Prio 2</td>\n",
       "      <td>FR</td>\n",
       "      <td>LDL</td>\n",
       "      <td>ST-MDE</td>\n",
       "      <td>Works as designed</td>\n",
       "    </tr>\n",
       "    <tr>\n",
       "      <th>6</th>\n",
       "      <td>INC7300612</td>\n",
       "      <td>0530 - CLERMONT-FERRAND - DR12 - MoBi - perdu ...</td>\n",
       "      <td>--------------- LIDL ---------------\\r\\n&gt; Expé...</td>\n",
       "      <td>Prio 3</td>\n",
       "      <td>FR</td>\n",
       "      <td>LDL</td>\n",
       "      <td>ST-MDE</td>\n",
       "      <td>Works as designed</td>\n",
       "    </tr>\n",
       "    <tr>\n",
       "      <th>7</th>\n",
       "      <td>INC7337800</td>\n",
       "      <td>1090 - Lidl-Store: PARIS - DR10 - Mobi - aucun...</td>\n",
       "      <td>------------ LIDL ---------------\\r\\n&gt; Expédit...</td>\n",
       "      <td>Prio 3</td>\n",
       "      <td>FR</td>\n",
       "      <td>LDL</td>\n",
       "      <td>ST-MDE</td>\n",
       "      <td>Works as designed</td>\n",
       "    </tr>\n",
       "    <tr>\n",
       "      <th>8</th>\n",
       "      <td>INC7345428</td>\n",
       "      <td>3930 - Lidl-Store: BAGNOLET - DR10 - Mobi - Pr...</td>\n",
       "      <td>------------ LIDL ---------------\\r\\n&gt; Expédit...</td>\n",
       "      <td>Prio 3</td>\n",
       "      <td>FR</td>\n",
       "      <td>LDL</td>\n",
       "      <td>ST-MDE</td>\n",
       "      <td>Works as designed</td>\n",
       "    </tr>\n",
       "    <tr>\n",
       "      <th>9</th>\n",
       "      <td>INC7350179</td>\n",
       "      <td>1155 -   ST GERMAIN VILLAGE Lisieux -  DR11 -...</td>\n",
       "      <td>--------------- LIDL ---------------\\r\\n&gt; Expé...</td>\n",
       "      <td>Prio 3</td>\n",
       "      <td>FR</td>\n",
       "      <td>LDL</td>\n",
       "      <td>ST-MDE</td>\n",
       "      <td>Works as designed</td>\n",
       "    </tr>\n",
       "  </tbody>\n",
       "</table>\n",
       "</div>"
      ],
      "text/plain": [
       "       number                                  short_description  \\\n",
       "0  INC6658799  Mobile Office | My error is not listed / repor...   \n",
       "1  INC7053991  VLC-3056-Mobile Office – PDA Terminal - Honeywell   \n",
       "2  INC7170689  LFR - Store 1696 - WH08 - Honeywell Mobile Dev...   \n",
       "3  INC7181866  Store 2507 - WH11 - Honeywell Mobile Device Lo...   \n",
       "4  INC7185888  LFR - Store 3660 - WH12 - Honeywell Device - T...   \n",
       "5  INC7255265  2659 - MUZILLAC - DR07 - INP MOBI # S/N : 2117...   \n",
       "6  INC7300612  0530 - CLERMONT-FERRAND - DR12 - MoBi - perdu ...   \n",
       "7  INC7337800  1090 - Lidl-Store: PARIS - DR10 - Mobi - aucun...   \n",
       "8  INC7345428  3930 - Lidl-Store: BAGNOLET - DR10 - Mobi - Pr...   \n",
       "9  INC7350179   1155 -   ST GERMAIN VILLAGE Lisieux -  DR11 -...   \n",
       "\n",
       "                                         description priority u_region  \\\n",
       "0  This ticket was created by a store employee, s...   Prio 3       GB   \n",
       "1  Here  we have exactly the same incident as INC...   Prio 3       ES   \n",
       "2  The mobile device 21342B62DB on store 1696, wa...   Prio 3       FR   \n",
       "3  Mobile device (21349B1921) locked in landscape...   Prio 3       FR   \n",
       "4  Since the Android 10 update on the 21172B39DD ...   Prio 3       FR   \n",
       "5  --------------- LIDL ---------------\\r\\n> Expé...   Prio 2       FR   \n",
       "6  --------------- LIDL ---------------\\r\\n> Expé...   Prio 3       FR   \n",
       "7  ------------ LIDL ---------------\\r\\n> Expédit...   Prio 3       FR   \n",
       "8  ------------ LIDL ---------------\\r\\n> Expédit...   Prio 3       FR   \n",
       "9  --------------- LIDL ---------------\\r\\n> Expé...   Prio 3       FR   \n",
       "\n",
       "  u_division cmdb_ci                         u_close_code  \n",
       "0        LDL  ST-MDE           Resolved by Problem Ticket  \n",
       "1        LDL  ST-MDE  Solved - Error did not appear again  \n",
       "2        LDL  ST-MDE                    Works as designed  \n",
       "3        LDL  ST-MDE                    Works as designed  \n",
       "4        LDL  ST-MDE                    Works as designed  \n",
       "5        LDL  ST-MDE                    Works as designed  \n",
       "6        LDL  ST-MDE                    Works as designed  \n",
       "7        LDL  ST-MDE                    Works as designed  \n",
       "8        LDL  ST-MDE                    Works as designed  \n",
       "9        LDL  ST-MDE                    Works as designed  "
      ]
     },
     "execution_count": 41,
     "metadata": {},
     "output_type": "execute_result"
    }
   ],
   "source": [
    "df = pd.read_csv('clean_dataset.csv') \n",
    "df.head(10)"
   ]
  },
  {
   "cell_type": "code",
   "execution_count": 42,
   "id": "eaa05f52",
   "metadata": {},
   "outputs": [],
   "source": [
    "# calling the first funtion to clean variable\n",
    "df['clean_desc'] = df['description'].apply(clean_description)"
   ]
  },
  {
   "cell_type": "code",
   "execution_count": 43,
   "id": "15b40668",
   "metadata": {},
   "outputs": [],
   "source": [
    "# calling the second funtion to clean variable\n",
    "df['priority_num'] = df['priority'].apply(clean_priority)"
   ]
  },
  {
   "cell_type": "code",
   "execution_count": 44,
   "id": "4326af5e",
   "metadata": {},
   "outputs": [
    {
     "data": {
      "text/html": [
       "<div>\n",
       "<style scoped>\n",
       "    .dataframe tbody tr th:only-of-type {\n",
       "        vertical-align: middle;\n",
       "    }\n",
       "\n",
       "    .dataframe tbody tr th {\n",
       "        vertical-align: top;\n",
       "    }\n",
       "\n",
       "    .dataframe thead th {\n",
       "        text-align: right;\n",
       "    }\n",
       "</style>\n",
       "<table border=\"1\" class=\"dataframe\">\n",
       "  <thead>\n",
       "    <tr style=\"text-align: right;\">\n",
       "      <th></th>\n",
       "      <th>number</th>\n",
       "      <th>short_description</th>\n",
       "      <th>description</th>\n",
       "      <th>priority</th>\n",
       "      <th>u_region</th>\n",
       "      <th>u_division</th>\n",
       "      <th>cmdb_ci</th>\n",
       "      <th>u_close_code</th>\n",
       "      <th>clean_desc</th>\n",
       "      <th>priority_num</th>\n",
       "    </tr>\n",
       "  </thead>\n",
       "  <tbody>\n",
       "    <tr>\n",
       "      <th>0</th>\n",
       "      <td>INC6658799</td>\n",
       "      <td>Mobile Office | My error is not listed / repor...</td>\n",
       "      <td>This ticket was created by a store employee, s...</td>\n",
       "      <td>Prio 3</td>\n",
       "      <td>GB</td>\n",
       "      <td>LDL</td>\n",
       "      <td>ST-MDE</td>\n",
       "      <td>Resolved by Problem Ticket</td>\n",
       "      <td>this ticket was created by a store employee st...</td>\n",
       "      <td>3</td>\n",
       "    </tr>\n",
       "    <tr>\n",
       "      <th>1</th>\n",
       "      <td>INC7053991</td>\n",
       "      <td>VLC-3056-Mobile Office – PDA Terminal - Honeywell</td>\n",
       "      <td>Here  we have exactly the same incident as INC...</td>\n",
       "      <td>Prio 3</td>\n",
       "      <td>ES</td>\n",
       "      <td>LDL</td>\n",
       "      <td>ST-MDE</td>\n",
       "      <td>Solved - Error did not appear again</td>\n",
       "      <td>here we have exactly the same incident as it i...</td>\n",
       "      <td>3</td>\n",
       "    </tr>\n",
       "    <tr>\n",
       "      <th>2</th>\n",
       "      <td>INC7170689</td>\n",
       "      <td>LFR - Store 1696 - WH08 - Honeywell Mobile Dev...</td>\n",
       "      <td>The mobile device 21342B62DB on store 1696, wa...</td>\n",
       "      <td>Prio 3</td>\n",
       "      <td>FR</td>\n",
       "      <td>LDL</td>\n",
       "      <td>ST-MDE</td>\n",
       "      <td>Works as designed</td>\n",
       "      <td>the mobile device on store warehouse is locked...</td>\n",
       "      <td>3</td>\n",
       "    </tr>\n",
       "    <tr>\n",
       "      <th>3</th>\n",
       "      <td>INC7181866</td>\n",
       "      <td>Store 2507 - WH11 - Honeywell Mobile Device Lo...</td>\n",
       "      <td>Mobile device (21349B1921) locked in landscape...</td>\n",
       "      <td>Prio 3</td>\n",
       "      <td>FR</td>\n",
       "      <td>LDL</td>\n",
       "      <td>ST-MDE</td>\n",
       "      <td>Works as designed</td>\n",
       "      <td>mobile device locked in landscape mode since t...</td>\n",
       "      <td>3</td>\n",
       "    </tr>\n",
       "    <tr>\n",
       "      <th>4</th>\n",
       "      <td>INC7185888</td>\n",
       "      <td>LFR - Store 3660 - WH12 - Honeywell Device - T...</td>\n",
       "      <td>Since the Android 10 update on the 21172B39DD ...</td>\n",
       "      <td>Prio 3</td>\n",
       "      <td>FR</td>\n",
       "      <td>LDL</td>\n",
       "      <td>ST-MDE</td>\n",
       "      <td>Works as designed</td>\n",
       "      <td>since the android update on the honeywell devi...</td>\n",
       "      <td>3</td>\n",
       "    </tr>\n",
       "  </tbody>\n",
       "</table>\n",
       "</div>"
      ],
      "text/plain": [
       "       number                                  short_description  \\\n",
       "0  INC6658799  Mobile Office | My error is not listed / repor...   \n",
       "1  INC7053991  VLC-3056-Mobile Office – PDA Terminal - Honeywell   \n",
       "2  INC7170689  LFR - Store 1696 - WH08 - Honeywell Mobile Dev...   \n",
       "3  INC7181866  Store 2507 - WH11 - Honeywell Mobile Device Lo...   \n",
       "4  INC7185888  LFR - Store 3660 - WH12 - Honeywell Device - T...   \n",
       "\n",
       "                                         description priority u_region  \\\n",
       "0  This ticket was created by a store employee, s...   Prio 3       GB   \n",
       "1  Here  we have exactly the same incident as INC...   Prio 3       ES   \n",
       "2  The mobile device 21342B62DB on store 1696, wa...   Prio 3       FR   \n",
       "3  Mobile device (21349B1921) locked in landscape...   Prio 3       FR   \n",
       "4  Since the Android 10 update on the 21172B39DD ...   Prio 3       FR   \n",
       "\n",
       "  u_division cmdb_ci                         u_close_code  \\\n",
       "0        LDL  ST-MDE           Resolved by Problem Ticket   \n",
       "1        LDL  ST-MDE  Solved - Error did not appear again   \n",
       "2        LDL  ST-MDE                    Works as designed   \n",
       "3        LDL  ST-MDE                    Works as designed   \n",
       "4        LDL  ST-MDE                    Works as designed   \n",
       "\n",
       "                                          clean_desc  priority_num  \n",
       "0  this ticket was created by a store employee st...             3  \n",
       "1  here we have exactly the same incident as it i...             3  \n",
       "2  the mobile device on store warehouse is locked...             3  \n",
       "3  mobile device locked in landscape mode since t...             3  \n",
       "4  since the android update on the honeywell devi...             3  "
      ]
     },
     "execution_count": 44,
     "metadata": {},
     "output_type": "execute_result"
    }
   ],
   "source": [
    "df.head(5)"
   ]
  },
  {
   "cell_type": "code",
   "execution_count": 45,
   "id": "f948a2a9",
   "metadata": {},
   "outputs": [
    {
     "data": {
      "text/plain": [
       "0        this ticket was created by a store employee st...\n",
       "1        here we have exactly the same incident as it i...\n",
       "2        the mobile device on store warehouse is locked...\n",
       "3        mobile device locked in landscape mode since t...\n",
       "4        since the android update on the honeywell devi...\n",
       "                               ...                        \n",
       "49370    store reported that hydra on scanner not worki...\n",
       "49371    contacto cargo tel de contacto isidro as incid...\n",
       "49372    contacto cargo tel de contacto eduardo adjunto...\n",
       "49373    this ticket was created by a store employee st...\n",
       "49374    cieszyn tel ma gorzata kromczyk sn posiadamy d...\n",
       "Name: clean_desc, Length: 49375, dtype: object"
      ]
     },
     "execution_count": 45,
     "metadata": {},
     "output_type": "execute_result"
    }
   ],
   "source": [
    "df_des = df[\"clean_desc\"]\n",
    "df_des"
   ]
  },
  {
   "cell_type": "code",
   "execution_count": 46,
   "id": "1d7dd9b0",
   "metadata": {},
   "outputs": [
    {
     "name": "stdout",
     "output_type": "stream",
     "text": [
      "<class 'pandas.core.frame.DataFrame'>\n",
      "RangeIndex: 49375 entries, 0 to 49374\n",
      "Data columns (total 10 columns):\n",
      " #   Column             Non-Null Count  Dtype \n",
      "---  ------             --------------  ----- \n",
      " 0   number             49375 non-null  object\n",
      " 1   short_description  49375 non-null  object\n",
      " 2   description        49374 non-null  object\n",
      " 3   priority           49375 non-null  object\n",
      " 4   u_region           49232 non-null  object\n",
      " 5   u_division         49375 non-null  object\n",
      " 6   cmdb_ci            49375 non-null  object\n",
      " 7   u_close_code       49375 non-null  object\n",
      " 8   clean_desc         49375 non-null  object\n",
      " 9   priority_num       49375 non-null  int64 \n",
      "dtypes: int64(1), object(9)\n",
      "memory usage: 3.8+ MB\n"
     ]
    }
   ],
   "source": [
    "df.info()"
   ]
  },
  {
   "cell_type": "code",
   "execution_count": 47,
   "id": "8493e4ed",
   "metadata": {},
   "outputs": [
    {
     "data": {
      "text/plain": [
       "(49375, 10)"
      ]
     },
     "execution_count": 47,
     "metadata": {},
     "output_type": "execute_result"
    }
   ],
   "source": [
    "df.shape"
   ]
  },
  {
   "cell_type": "code",
   "execution_count": 48,
   "id": "c3edb538",
   "metadata": {},
   "outputs": [
    {
     "data": {
      "text/plain": [
       "number                 0\n",
       "short_description      0\n",
       "description            1\n",
       "priority               0\n",
       "u_region             143\n",
       "u_division             0\n",
       "cmdb_ci                0\n",
       "u_close_code           0\n",
       "clean_desc             0\n",
       "priority_num           0\n",
       "dtype: int64"
      ]
     },
     "execution_count": 48,
     "metadata": {},
     "output_type": "execute_result"
    }
   ],
   "source": [
    "df_null_sum = df.isnull().sum()\n",
    "df_null_sum"
   ]
  },
  {
   "cell_type": "code",
   "execution_count": null,
   "id": "862e3f64",
   "metadata": {},
   "outputs": [],
   "source": [
    "# # Function to obtain the embedding for lots one by one\n",
    "# def get_embedding(text, model=\"text-embedding-3-small\"):\n",
    "#     # Clean the text (remove newlines)\n",
    "#     text = text.replace(\"\\n\", \" \")\n",
    "#     # Call the embeddings API directly from the openai module\n",
    "#     response = openai.Embedding.create(\n",
    "#         input=[text],\n",
    "#         model=model\n",
    "#     )\n",
    "#     # Return the embedding from the response\n",
    "#     return response[\"data\"][0][\"embedding\"]\n",
    "\n",
    "# # Convert the 'review' column to string type\n",
    "# df['embedding'] = df['review'].astype(str)\n",
    "# # ⚙️ Generar embeddings para cada texto\n",
    "# tqdm.pandas()  \n",
    "\n",
    "# # Generate embeddings for each review text\n",
    "# df['embedding'] = df['embedding'].progress_apply(lambda x: get_embedding(x))\n",
    "# embeddings = df['embedding'].tolist()\n",
    "\n"
   ]
  },
  {
   "cell_type": "code",
   "execution_count": 49,
   "id": "16c769fb",
   "metadata": {},
   "outputs": [],
   "source": [
    "df.dropna(inplace=True)  # Drop rows with NaN in 'dataframe'"
   ]
  },
  {
   "cell_type": "code",
   "execution_count": 50,
   "id": "80a3d949",
   "metadata": {},
   "outputs": [],
   "source": [
    "# Drop original 'description' and 'priority'\n",
    "df_clean = df.drop(columns=['description', 'priority'])"
   ]
  },
  {
   "cell_type": "code",
   "execution_count": 51,
   "id": "48ed5aa6",
   "metadata": {},
   "outputs": [
    {
     "data": {
      "text/plain": [
       "number               0\n",
       "short_description    0\n",
       "u_region             0\n",
       "u_division           0\n",
       "cmdb_ci              0\n",
       "u_close_code         0\n",
       "clean_desc           0\n",
       "priority_num         0\n",
       "dtype: int64"
      ]
     },
     "execution_count": 51,
     "metadata": {},
     "output_type": "execute_result"
    }
   ],
   "source": [
    "df_null_sum = df_clean.isnull().sum()\n",
    "df_null_sum"
   ]
  },
  {
   "cell_type": "code",
   "execution_count": 52,
   "id": "a8fc0e5c",
   "metadata": {},
   "outputs": [
    {
     "data": {
      "text/html": [
       "<div>\n",
       "<style scoped>\n",
       "    .dataframe tbody tr th:only-of-type {\n",
       "        vertical-align: middle;\n",
       "    }\n",
       "\n",
       "    .dataframe tbody tr th {\n",
       "        vertical-align: top;\n",
       "    }\n",
       "\n",
       "    .dataframe thead th {\n",
       "        text-align: right;\n",
       "    }\n",
       "</style>\n",
       "<table border=\"1\" class=\"dataframe\">\n",
       "  <thead>\n",
       "    <tr style=\"text-align: right;\">\n",
       "      <th></th>\n",
       "      <th>number</th>\n",
       "      <th>short_description</th>\n",
       "      <th>u_region</th>\n",
       "      <th>u_division</th>\n",
       "      <th>cmdb_ci</th>\n",
       "      <th>u_close_code</th>\n",
       "      <th>clean_desc</th>\n",
       "      <th>priority_num</th>\n",
       "    </tr>\n",
       "  </thead>\n",
       "  <tbody>\n",
       "    <tr>\n",
       "      <th>0</th>\n",
       "      <td>INC6658799</td>\n",
       "      <td>Mobile Office | My error is not listed / repor...</td>\n",
       "      <td>GB</td>\n",
       "      <td>LDL</td>\n",
       "      <td>ST-MDE</td>\n",
       "      <td>Resolved by Problem Ticket</td>\n",
       "      <td>this ticket was created by a store employee st...</td>\n",
       "      <td>3</td>\n",
       "    </tr>\n",
       "    <tr>\n",
       "      <th>1</th>\n",
       "      <td>INC7053991</td>\n",
       "      <td>VLC-3056-Mobile Office – PDA Terminal - Honeywell</td>\n",
       "      <td>ES</td>\n",
       "      <td>LDL</td>\n",
       "      <td>ST-MDE</td>\n",
       "      <td>Solved - Error did not appear again</td>\n",
       "      <td>here we have exactly the same incident as it i...</td>\n",
       "      <td>3</td>\n",
       "    </tr>\n",
       "    <tr>\n",
       "      <th>2</th>\n",
       "      <td>INC7170689</td>\n",
       "      <td>LFR - Store 1696 - WH08 - Honeywell Mobile Dev...</td>\n",
       "      <td>FR</td>\n",
       "      <td>LDL</td>\n",
       "      <td>ST-MDE</td>\n",
       "      <td>Works as designed</td>\n",
       "      <td>the mobile device on store warehouse is locked...</td>\n",
       "      <td>3</td>\n",
       "    </tr>\n",
       "    <tr>\n",
       "      <th>3</th>\n",
       "      <td>INC7181866</td>\n",
       "      <td>Store 2507 - WH11 - Honeywell Mobile Device Lo...</td>\n",
       "      <td>FR</td>\n",
       "      <td>LDL</td>\n",
       "      <td>ST-MDE</td>\n",
       "      <td>Works as designed</td>\n",
       "      <td>mobile device locked in landscape mode since t...</td>\n",
       "      <td>3</td>\n",
       "    </tr>\n",
       "    <tr>\n",
       "      <th>4</th>\n",
       "      <td>INC7185888</td>\n",
       "      <td>LFR - Store 3660 - WH12 - Honeywell Device - T...</td>\n",
       "      <td>FR</td>\n",
       "      <td>LDL</td>\n",
       "      <td>ST-MDE</td>\n",
       "      <td>Works as designed</td>\n",
       "      <td>since the android update on the honeywell devi...</td>\n",
       "      <td>3</td>\n",
       "    </tr>\n",
       "    <tr>\n",
       "      <th>...</th>\n",
       "      <td>...</td>\n",
       "      <td>...</td>\n",
       "      <td>...</td>\n",
       "      <td>...</td>\n",
       "      <td>...</td>\n",
       "      <td>...</td>\n",
       "      <td>...</td>\n",
       "      <td>...</td>\n",
       "    </tr>\n",
       "    <tr>\n",
       "      <th>49370</th>\n",
       "      <td>INC10694407</td>\n",
       "      <td>SK4320 - problem with hydra</td>\n",
       "      <td>SK</td>\n",
       "      <td>KFL</td>\n",
       "      <td>ST-MDE</td>\n",
       "      <td>Software / Application Issue</td>\n",
       "      <td>store reported that hydra on scanner not worki...</td>\n",
       "      <td>2</td>\n",
       "    </tr>\n",
       "    <tr>\n",
       "      <th>49371</th>\n",
       "      <td>INC10694222</td>\n",
       "      <td>Mobile Office – PDA Terminal 01 - Honeywell</td>\n",
       "      <td>ES</td>\n",
       "      <td>LDL</td>\n",
       "      <td>ST-MDE</td>\n",
       "      <td>Solved - Error did not appear again</td>\n",
       "      <td>contacto cargo tel de contacto isidro as incid...</td>\n",
       "      <td>3</td>\n",
       "    </tr>\n",
       "    <tr>\n",
       "      <th>49372</th>\n",
       "      <td>INC10694489</td>\n",
       "      <td>Mobile Office – PDA Terminal - Honeywell</td>\n",
       "      <td>ES</td>\n",
       "      <td>LDL</td>\n",
       "      <td>ST-MDE</td>\n",
       "      <td>Solved - Error did not appear again</td>\n",
       "      <td>contacto cargo tel de contacto eduardo adjunto...</td>\n",
       "      <td>3</td>\n",
       "    </tr>\n",
       "    <tr>\n",
       "      <th>49373</th>\n",
       "      <td>INC10694601</td>\n",
       "      <td>Mobile Office | Mijn probleem is niet opgelijs...</td>\n",
       "      <td>BE</td>\n",
       "      <td>LDL</td>\n",
       "      <td>ST-MDE</td>\n",
       "      <td>Software / Application Issue</td>\n",
       "      <td>this ticket was created by a store employee st...</td>\n",
       "      <td>3</td>\n",
       "    </tr>\n",
       "    <tr>\n",
       "      <th>49374</th>\n",
       "      <td>INC10694613</td>\n",
       "      <td>CT40 - Ponowne zg?oszenie</td>\n",
       "      <td>PL</td>\n",
       "      <td>KFL</td>\n",
       "      <td>ST-MDE</td>\n",
       "      <td>Not solved</td>\n",
       "      <td>cieszyn tel ma gorzata kromczyk sn posiadamy d...</td>\n",
       "      <td>3</td>\n",
       "    </tr>\n",
       "  </tbody>\n",
       "</table>\n",
       "<p>49231 rows × 8 columns</p>\n",
       "</div>"
      ],
      "text/plain": [
       "            number                                  short_description  \\\n",
       "0       INC6658799  Mobile Office | My error is not listed / repor...   \n",
       "1       INC7053991  VLC-3056-Mobile Office – PDA Terminal - Honeywell   \n",
       "2       INC7170689  LFR - Store 1696 - WH08 - Honeywell Mobile Dev...   \n",
       "3       INC7181866  Store 2507 - WH11 - Honeywell Mobile Device Lo...   \n",
       "4       INC7185888  LFR - Store 3660 - WH12 - Honeywell Device - T...   \n",
       "...            ...                                                ...   \n",
       "49370  INC10694407                        SK4320 - problem with hydra   \n",
       "49371  INC10694222        Mobile Office – PDA Terminal 01 - Honeywell   \n",
       "49372  INC10694489           Mobile Office – PDA Terminal - Honeywell   \n",
       "49373  INC10694601  Mobile Office | Mijn probleem is niet opgelijs...   \n",
       "49374  INC10694613                          CT40 - Ponowne zg?oszenie   \n",
       "\n",
       "      u_region u_division cmdb_ci                         u_close_code  \\\n",
       "0           GB        LDL  ST-MDE           Resolved by Problem Ticket   \n",
       "1           ES        LDL  ST-MDE  Solved - Error did not appear again   \n",
       "2           FR        LDL  ST-MDE                    Works as designed   \n",
       "3           FR        LDL  ST-MDE                    Works as designed   \n",
       "4           FR        LDL  ST-MDE                    Works as designed   \n",
       "...        ...        ...     ...                                  ...   \n",
       "49370       SK        KFL  ST-MDE         Software / Application Issue   \n",
       "49371       ES        LDL  ST-MDE  Solved - Error did not appear again   \n",
       "49372       ES        LDL  ST-MDE  Solved - Error did not appear again   \n",
       "49373       BE        LDL  ST-MDE         Software / Application Issue   \n",
       "49374       PL        KFL  ST-MDE                           Not solved   \n",
       "\n",
       "                                              clean_desc  priority_num  \n",
       "0      this ticket was created by a store employee st...             3  \n",
       "1      here we have exactly the same incident as it i...             3  \n",
       "2      the mobile device on store warehouse is locked...             3  \n",
       "3      mobile device locked in landscape mode since t...             3  \n",
       "4      since the android update on the honeywell devi...             3  \n",
       "...                                                  ...           ...  \n",
       "49370  store reported that hydra on scanner not worki...             2  \n",
       "49371  contacto cargo tel de contacto isidro as incid...             3  \n",
       "49372  contacto cargo tel de contacto eduardo adjunto...             3  \n",
       "49373  this ticket was created by a store employee st...             3  \n",
       "49374  cieszyn tel ma gorzata kromczyk sn posiadamy d...             3  \n",
       "\n",
       "[49231 rows x 8 columns]"
      ]
     },
     "execution_count": 52,
     "metadata": {},
     "output_type": "execute_result"
    }
   ],
   "source": [
    "df_clean"
   ]
  },
  {
   "cell_type": "code",
   "execution_count": 53,
   "id": "d14586a1",
   "metadata": {},
   "outputs": [],
   "source": [
    "# 1) Drop any rows where clean_desc is empty or null\n",
    "df_clean = df_clean.copy()\n",
    "mask = df_clean['clean_desc'].astype(str).str.strip() != \"\"\n",
    "df_clean = df_clean.loc[mask].reset_index(drop=True)"
   ]
  },
  {
   "cell_type": "code",
   "execution_count": 54,
   "id": "4259fb7d",
   "metadata": {},
   "outputs": [],
   "source": [
    "def count_tokens(texts):\n",
    "    return sum(len(encoding.encode(t)) for t in texts)"
   ]
  },
  {
   "cell_type": "code",
   "execution_count": null,
   "id": "ea72454c",
   "metadata": {},
   "outputs": [
    {
     "name": "stderr",
     "output_type": "stream",
     "text": [
      "Embedding batches: 100%|██████████| 763/763 [19:03<00:00,  1.50s/it]"
     ]
    },
    {
     "name": "stdout",
     "output_type": "stream",
     "text": [
      "Failed batches: []\n"
     ]
    },
    {
     "name": "stderr",
     "output_type": "stream",
     "text": [
      "\n"
     ]
    }
   ],
   "source": [
    "def embed_batch(texts, model=\"text-embedding-3-small\", retries=2):\n",
    "    # filter empty\n",
    "    texts = [t if t is not None else \"\" for t in texts]\n",
    "    # if too many tokens, split\n",
    "    if count_tokens(texts) > MAX_TOKENS and len(texts) > 1:\n",
    "        mid = len(texts) // 2\n",
    "        return embed_batch(texts[:mid], model) + embed_batch(texts[mid:], model)\n",
    "    # try embedding\n",
    "    for attempt in range(retries + 1):\n",
    "        try:\n",
    "            resp = openai.Embedding.create(model=model, input=texts)\n",
    "            return [d[\"embedding\"] for d in resp[\"data\"]]\n",
    "        except (RateLimitError, APIError, TimeoutError) as e:\n",
    "            if attempt < retries and len(texts) > 1:\n",
    "                mid = len(texts) // 2\n",
    "                return embed_batch(texts[:mid], model, retries) + embed_batch(texts[mid:], model, retries)\n",
    "            wait = 2 ** attempt\n",
    "            print(f\"[Attempt {attempt+1}] Error: {e}. Retrying split in {wait}s...\")\n",
    "            time.sleep(wait)\n",
    "    # if all retries fail, raise\n",
    "    raise RuntimeError(f\"Batch embedding failed for {len(texts)} texts\")\n",
    "\n",
    "# Prepare texts\n",
    "texts = df_clean['clean_desc'].tolist()\n",
    "batch_size = 64\n",
    "\n",
    "# Containers\n",
    "all_embeddings = []\n",
    "failed_batches = []  # store (start_index, batch_texts, error)\n",
    "\n",
    "# Loop with logging\n",
    "for start in tqdm(range(0, len(texts), batch_size), desc=\"Embedding batches\"):\n",
    "    batch = texts[start: start + batch_size]\n",
    "    try:\n",
    "        embs = embed_batch(batch)\n",
    "        all_embeddings.extend(embs)\n",
    "    except Exception as e:\n",
    "        print(f\"Batch starting at {start} failed: {e}\")\n",
    "        failed_batches.append((start, batch, str(e)))\n",
    "        # Inspect: save this batch to a file so you can inspect manually\n",
    "        with open(f\"failed_batch_{start}.txt\", \"w\", encoding=\"utf-8\") as f:\n",
    "            f.write(\"\\n\".join(batch))\n",
    "        # Fallback: attempt one-by-one to avoid loss\n",
    "        for idx, text in enumerate(batch):\n",
    "            try:\n",
    "                emb = embed_batch([text])[0]\n",
    "                all_embeddings.append(emb)\n",
    "            except Exception as e2:\n",
    "                print(f\"  Single text at index {start + idx} also failed: {e2}\")\n",
    "                # placeholder zero-vector (match embedding dim)\n",
    "                dim = len(all_embeddings[0]) if all_embeddings else 1536\n",
    "                all_embeddings.append([0.0] * dim)\n",
    "\n",
    "# Verify lengths\n",
    "assert len(all_embeddings) == len(texts), \\\n",
    "    f\"Embeddings count {len(all_embeddings)} != texts {len(texts)}\"\n",
    "\n",
    "# Attach back\n",
    "df_clean['embedding'] = all_embeddings\n",
    "\n",
    "# After running, inspect failed_batches list for problematic texts:\n",
    "print(\"Failed batches:\", failed_batches)\n",
    "df_clean.to_parquet(\"processed.parquet\", index=False)"
   ]
  },
  {
   "cell_type": "code",
   "execution_count": 57,
   "id": "00cb81b1",
   "metadata": {},
   "outputs": [],
   "source": [
    "df_clean.to_parquet(\"processed.parquet\", index=False)\n"
   ]
  },
  {
   "cell_type": "code",
   "execution_count": 71,
   "id": "d99c3f15",
   "metadata": {},
   "outputs": [],
   "source": [
    "df_1 = pd.read_parquet(\"processed.parquet\")"
   ]
  },
  {
   "cell_type": "code",
   "execution_count": 70,
   "id": "344fc8e5",
   "metadata": {},
   "outputs": [
    {
     "name": "stdout",
     "output_type": "stream",
     "text": [
      "¿Hay embeddings como strings? False\n"
     ]
    }
   ],
   "source": [
    "# True si en alguna fila sigue habiendo un string en vez de lista o array\n",
    "has_strings = df_1['embedding'].apply(lambda x: isinstance(x, str)).any()\n",
    "print(\"¿Hay embeddings como strings?\", has_strings)\n"
   ]
  },
  {
   "cell_type": "code",
   "execution_count": 74,
   "id": "e217deb3",
   "metadata": {},
   "outputs": [
    {
     "name": "stdout",
     "output_type": "stream",
     "text": [
      "Unique embedding dimensions: [1536]\n"
     ]
    }
   ],
   "source": [
    "lengths = df_1['embedding'].apply(len)\n",
    "print(\"Unique embedding dimensions:\", lengths.unique())"
   ]
  },
  {
   "cell_type": "code",
   "execution_count": 75,
   "id": "98e58374",
   "metadata": {},
   "outputs": [],
   "source": [
    "import numpy as np\n",
    "# This turns the list‑of‑floats in each row into a proper 2D array\n",
    "X = np.vstack(df_1['embedding'].values) "
   ]
  },
  {
   "cell_type": "code",
   "execution_count": 72,
   "id": "bc5e487d",
   "metadata": {},
   "outputs": [
    {
     "data": {
      "text/html": [
       "<div>\n",
       "<style scoped>\n",
       "    .dataframe tbody tr th:only-of-type {\n",
       "        vertical-align: middle;\n",
       "    }\n",
       "\n",
       "    .dataframe tbody tr th {\n",
       "        vertical-align: top;\n",
       "    }\n",
       "\n",
       "    .dataframe thead th {\n",
       "        text-align: right;\n",
       "    }\n",
       "</style>\n",
       "<table border=\"1\" class=\"dataframe\">\n",
       "  <thead>\n",
       "    <tr style=\"text-align: right;\">\n",
       "      <th></th>\n",
       "      <th>number</th>\n",
       "      <th>short_description</th>\n",
       "      <th>u_region</th>\n",
       "      <th>u_division</th>\n",
       "      <th>cmdb_ci</th>\n",
       "      <th>u_close_code</th>\n",
       "      <th>clean_desc</th>\n",
       "      <th>priority_num</th>\n",
       "      <th>embedding</th>\n",
       "    </tr>\n",
       "  </thead>\n",
       "  <tbody>\n",
       "    <tr>\n",
       "      <th>0</th>\n",
       "      <td>INC6658799</td>\n",
       "      <td>Mobile Office | My error is not listed / repor...</td>\n",
       "      <td>GB</td>\n",
       "      <td>LDL</td>\n",
       "      <td>ST-MDE</td>\n",
       "      <td>Resolved by Problem Ticket</td>\n",
       "      <td>this ticket was created by a store employee st...</td>\n",
       "      <td>3</td>\n",
       "      <td>[-0.04034459963440895, 0.02698301523923874, 0....</td>\n",
       "    </tr>\n",
       "    <tr>\n",
       "      <th>1</th>\n",
       "      <td>INC7053991</td>\n",
       "      <td>VLC-3056-Mobile Office – PDA Terminal - Honeywell</td>\n",
       "      <td>ES</td>\n",
       "      <td>LDL</td>\n",
       "      <td>ST-MDE</td>\n",
       "      <td>Solved - Error did not appear again</td>\n",
       "      <td>here we have exactly the same incident as it i...</td>\n",
       "      <td>3</td>\n",
       "      <td>[-0.008323092944920063, 0.019566569477319717, ...</td>\n",
       "    </tr>\n",
       "    <tr>\n",
       "      <th>2</th>\n",
       "      <td>INC7170689</td>\n",
       "      <td>LFR - Store 1696 - WH08 - Honeywell Mobile Dev...</td>\n",
       "      <td>FR</td>\n",
       "      <td>LDL</td>\n",
       "      <td>ST-MDE</td>\n",
       "      <td>Works as designed</td>\n",
       "      <td>the mobile device on store warehouse is locked...</td>\n",
       "      <td>3</td>\n",
       "      <td>[-0.007481252308934927, 0.036391958594322205, ...</td>\n",
       "    </tr>\n",
       "    <tr>\n",
       "      <th>3</th>\n",
       "      <td>INC7181866</td>\n",
       "      <td>Store 2507 - WH11 - Honeywell Mobile Device Lo...</td>\n",
       "      <td>FR</td>\n",
       "      <td>LDL</td>\n",
       "      <td>ST-MDE</td>\n",
       "      <td>Works as designed</td>\n",
       "      <td>mobile device locked in landscape mode since t...</td>\n",
       "      <td>3</td>\n",
       "      <td>[0.0008254850981757045, 0.025297028943896294, ...</td>\n",
       "    </tr>\n",
       "    <tr>\n",
       "      <th>4</th>\n",
       "      <td>INC7185888</td>\n",
       "      <td>LFR - Store 3660 - WH12 - Honeywell Device - T...</td>\n",
       "      <td>FR</td>\n",
       "      <td>LDL</td>\n",
       "      <td>ST-MDE</td>\n",
       "      <td>Works as designed</td>\n",
       "      <td>since the android update on the honeywell devi...</td>\n",
       "      <td>3</td>\n",
       "      <td>[-0.04337901622056961, 0.016848208382725716, 0...</td>\n",
       "    </tr>\n",
       "  </tbody>\n",
       "</table>\n",
       "</div>"
      ],
      "text/plain": [
       "       number                                  short_description u_region  \\\n",
       "0  INC6658799  Mobile Office | My error is not listed / repor...       GB   \n",
       "1  INC7053991  VLC-3056-Mobile Office – PDA Terminal - Honeywell       ES   \n",
       "2  INC7170689  LFR - Store 1696 - WH08 - Honeywell Mobile Dev...       FR   \n",
       "3  INC7181866  Store 2507 - WH11 - Honeywell Mobile Device Lo...       FR   \n",
       "4  INC7185888  LFR - Store 3660 - WH12 - Honeywell Device - T...       FR   \n",
       "\n",
       "  u_division cmdb_ci                         u_close_code  \\\n",
       "0        LDL  ST-MDE           Resolved by Problem Ticket   \n",
       "1        LDL  ST-MDE  Solved - Error did not appear again   \n",
       "2        LDL  ST-MDE                    Works as designed   \n",
       "3        LDL  ST-MDE                    Works as designed   \n",
       "4        LDL  ST-MDE                    Works as designed   \n",
       "\n",
       "                                          clean_desc  priority_num  \\\n",
       "0  this ticket was created by a store employee st...             3   \n",
       "1  here we have exactly the same incident as it i...             3   \n",
       "2  the mobile device on store warehouse is locked...             3   \n",
       "3  mobile device locked in landscape mode since t...             3   \n",
       "4  since the android update on the honeywell devi...             3   \n",
       "\n",
       "                                           embedding  \n",
       "0  [-0.04034459963440895, 0.02698301523923874, 0....  \n",
       "1  [-0.008323092944920063, 0.019566569477319717, ...  \n",
       "2  [-0.007481252308934927, 0.036391958594322205, ...  \n",
       "3  [0.0008254850981757045, 0.025297028943896294, ...  \n",
       "4  [-0.04337901622056961, 0.016848208382725716, 0...  "
      ]
     },
     "execution_count": 72,
     "metadata": {},
     "output_type": "execute_result"
    }
   ],
   "source": [
    "df_1.head(5)"
   ]
  },
  {
   "cell_type": "code",
   "execution_count": 73,
   "id": "e1751bc5",
   "metadata": {},
   "outputs": [
    {
     "data": {
      "text/plain": [
       "(48790, 9)"
      ]
     },
     "execution_count": 73,
     "metadata": {},
     "output_type": "execute_result"
    }
   ],
   "source": [
    "df_1.shape"
   ]
  },
  {
   "cell_type": "markdown",
   "id": "70031ab0",
   "metadata": {},
   "source": [
    "Clustering The data with the 2 Variables"
   ]
  },
  {
   "cell_type": "code",
   "execution_count": 76,
   "id": "3d8865ef",
   "metadata": {},
   "outputs": [],
   "source": [
    "import matplotlib.pyplot as plt\n",
    "\n",
    "# The elbow method to check and determine in how many clusters we should cluster the data\n",
    "def optimise_kmeans(data, max_k):\n",
    "    means = []\t\n",
    "    inertia = []\n",
    "    for k in range(1, max_k):\n",
    "        kmeans = KMeans(n_clusters=k)\n",
    "        kmeans.fit(data)\n",
    "        means.append(k)\n",
    "        inertia.append(kmeans.inertia_)\n",
    "    \n",
    "    \n",
    "    fig = plt.figure(figsize=(10, 6))\n",
    "    plt.plot(means, inertia, marker='o', linestyle='-')\n",
    "    plt.xlabel('Number of clusters')\n",
    "    plt.ylabel('Inertia')\n",
    "    plt.grid(True)\n",
    "    plt.show"
   ]
  },
  {
   "cell_type": "code",
   "execution_count": 77,
   "id": "ab4fa67e",
   "metadata": {},
   "outputs": [
    {
     "data": {
      "image/png": "[encoded data removed]",
      "text/plain": [
       "<Figure size 1000x600 with 1 Axes>"
      ]
     },
     "metadata": {},
     "output_type": "display_data"
    }
   ],
   "source": [
    "optimise_kmeans(X, max_k=10)\n"
   ]
  },
  {
   "cell_type": "code",
   "execution_count": 78,
   "id": "db73e850",
   "metadata": {},
   "outputs": [],
   "source": [
    "from sklearn.cluster import KMeans\n",
    "\n",
    "n_clusters = 6  \n",
    "kmeans = KMeans(n_clusters=n_clusters, random_state=42)\n",
    "labels = kmeans.fit_predict(X)  # X is the data matrix with embeddings + priority\n",
    "\n",
    "df_1['cluster'] = labels\n"
   ]
  },
  {
   "cell_type": "markdown",
   "id": "10523600",
   "metadata": {},
   "source": [
    "Plotting Results"
   ]
  },
  {
   "cell_type": "code",
   "execution_count": 80,
   "id": "cf93b668",
   "metadata": {},
   "outputs": [
    {
     "data": {
      "image/png": "[encoded data removed]",
      "text/plain": [
       "<Figure size 800x500 with 1 Axes>"
      ]
     },
     "metadata": {},
     "output_type": "display_data"
    }
   ],
   "source": [
    "import seaborn as sns\n",
    "import matplotlib.pyplot as plt\n",
    "\n",
    "plt.figure(figsize=(8,5))\n",
    "sns.boxplot(x='cluster', y='priority_num', data=df_1)\n",
    "plt.title('Priority distribution by cluster')\n",
    "plt.xlabel('Cluster')\n",
    "plt.ylabel('Priority')\n",
    "plt.show()\n",
    "\n"
   ]
  },
  {
   "cell_type": "code",
   "execution_count": 81,
   "id": "1d67ff87",
   "metadata": {},
   "outputs": [
    {
     "data": {
      "image/png": "[encoded data removed]",
      "text/plain": [
       "<Figure size 640x480 with 1 Axes>"
      ]
     },
     "metadata": {},
     "output_type": "display_data"
    }
   ],
   "source": [
    "sns.violinplot(x='cluster', y='priority_num', data=df_1, inner='quartile')\n",
    "plt.show()"
   ]
  },
  {
   "cell_type": "code",
   "execution_count": 82,
   "id": "b480ddf0",
   "metadata": {},
   "outputs": [
    {
     "data": {
      "image/png": "[encoded data removed]",
      "text/plain": [
       "<Figure size 800x500 with 1 Axes>"
      ]
     },
     "metadata": {},
     "output_type": "display_data"
    },
    {
     "data": {
      "image/png": "[encoded data removed]",
      "text/plain": [
       "<Figure size 800x500 with 1 Axes>"
      ]
     },
     "metadata": {},
     "output_type": "display_data"
    },
    {
     "data": {
      "image/png": "[encoded data removed]",
      "text/plain": [
       "<Figure size 800x500 with 1 Axes>"
      ]
     },
     "metadata": {},
     "output_type": "display_data"
    },
    {
     "data": {
      "image/png": "[encoded data removed]",
      "text/plain": [
       "<Figure size 800x500 with 1 Axes>"
      ]
     },
     "metadata": {},
     "output_type": "display_data"
    }
   ],
   "source": [
    "# Conteo de tickets por región y clúster\n",
    "pd.crosstab(df_1['u_region'], df_1['cluster'], normalize='index') \\\n",
    "  .plot(kind='bar', stacked=True, figsize=(8,5), title='Distribución por Región y Clúster')\n",
    "plt.ylabel('% de tickets')\n",
    "plt.show()\n",
    "\n",
    "# Lo mismo para división, close_code o cmdb_ci\n",
    "for col in ['u_division','u_close_code','cmdb_ci']:\n",
    "    pd.crosstab(df_1[col], df_1['cluster'], normalize='index') \\\n",
    "      .plot(kind='bar', stacked=True, figsize=(8,5), title=f'Distribución por {col} y Clúster')\n",
    "    plt.ylabel('% de tickets')\n",
    "    plt.show()\n"
   ]
  },
  {
   "cell_type": "code",
   "execution_count": 83,
   "id": "92c2e615",
   "metadata": {},
   "outputs": [
    {
     "data": {
      "image/png": "[encoded data removed]",
      "text/plain": [
       "<Figure size 800x500 with 1 Axes>"
      ]
     },
     "metadata": {},
     "output_type": "display_data"
    }
   ],
   "source": [
    "pd.crosstab(df_1['cluster'], df_1['priority_num']) \\\n",
    "  .plot(kind='bar', stacked=True, figsize=(8,5))\n",
    "plt.title('Counts of Priorities in each Cluster')\n",
    "plt.xlabel('Cluster')\n",
    "plt.ylabel('Number of tickets')\n",
    "plt.show()\n"
   ]
  },
  {
   "cell_type": "code",
   "execution_count": 84,
   "id": "c53b3e9f",
   "metadata": {},
   "outputs": [
    {
     "data": {
      "image/png": "[encoded data removed]",
      "text/plain": [
       "<Figure size 800x500 with 1 Axes>"
      ]
     },
     "metadata": {},
     "output_type": "display_data"
    }
   ],
   "source": [
    "pd.crosstab(df_1['cluster'], df_1['priority_num']) \\\n",
    "  .plot(kind='bar', stacked=True, figsize=(8,5))\n",
    "plt.title('Counts of Priorities in each Cluster')\n",
    "plt.xlabel('Cluster')\n",
    "plt.ylabel('Number of tickets')\n",
    "plt.show()\n"
   ]
  },
  {
   "cell_type": "code",
   "execution_count": 85,
   "id": "b105c6e0",
   "metadata": {},
   "outputs": [
    {
     "name": "stdout",
     "output_type": "stream",
     "text": [
      "cluster\n",
      "0     3723\n",
      "1     6211\n",
      "2     5299\n",
      "3    11628\n",
      "4    18302\n",
      "5     3627\n",
      "Name: number, dtype: int64\n"
     ]
    }
   ],
   "source": [
    "# unique incident count per cluster\n",
    "inc_count = df_1.groupby('cluster')['number'].nunique()\n",
    "print(inc_count)"
   ]
  },
  {
   "cell_type": "code",
   "execution_count": 86,
   "id": "c63cb088",
   "metadata": {},
   "outputs": [
    {
     "name": "stdout",
     "output_type": "stream",
     "text": [
      "\n",
      "🔹 Cluster 0:\n",
      "sn mac ip fehlerbeschreibung l dt nicht mehr ak...\n",
      "sn mac ip fehlerbeschreibung l dt nicht mehr kk...\n",
      "sn mac ip fehlerbeschreibung l dt nicht mehr ak...\n",
      "fehlerbeschreibung mde hat einen riss im displa...\n",
      "sn mac ip fehlerbeschreibung display flackert d...\n",
      "\n",
      "🔹 Cluster 1:\n",
      "en description lidl exp dition type simple prio...\n",
      "this ticket was created by a store employee sto...\n",
      "this ticket was created by a store employee sto...\n",
      "this ticket was created by a store employee sto...\n",
      "this ticket was created by a store employee sto...\n",
      "\n",
      "🔹 Cluster 2:\n",
      "lidl exp dition priorit j type avec change gest...\n",
      "lidl exp dition type simple priorit j gestion c...\n",
      "lidl exp dition priorit j type avec change gest...\n",
      "lidl exp dition priorit j type avec change gest...\n",
      "lidl exp dition priorit j type avec change gest...\n",
      "\n",
      "🔹 Cluster 3:\n",
      "here we have exactly the same incident as it is...\n",
      "the mobile device on store warehouse is locked ...\n",
      "mobile device locked in landscape mode since th...\n",
      "since the android update on the honeywell devic...\n",
      "maa fi myym l no l nsisatamankatu helsinki puhe...\n",
      "\n",
      "🔹 Cluster 4:\n",
      "this ticket was created by a store employee sto...\n",
      "this ticket was created by a store employee sto...\n",
      "this ticket was created by a store employee sto...\n",
      "this ticket was created by a store employee sto...\n",
      "this ticket was created by a store employee sto...\n",
      "\n",
      "🔹 Cluster 5:\n",
      "incidencia en dispositivo terminal contacto car...\n",
      "hello we have the same incident in at least fou...\n",
      "forward to s int it siam support user nascimien...\n",
      "user miguel ngel ivorra miguel has store manage...\n",
      "incidencia en dispositivo terminal honeywell n ...\n"
     ]
    }
   ],
   "source": [
    "# 👀 6. Inspect each cluster manually\n",
    "for i in range(n_clusters):\n",
    "    print(f\"\\n🔹 Cluster {i}:\")\n",
    "    print(df_1[df_1['cluster'] == i]['clean_desc'].head(5).to_string(index=False))\n"
   ]
  },
  {
   "cell_type": "code",
   "execution_count": null,
   "id": "4ae80358",
   "metadata": {},
   "outputs": [],
   "source": [
    "def categorize_and_explain_cluster(descriptions):\n",
    "    \n",
    "    sample_size = min(20, len(descriptions))\n",
    "\n",
    "    # Randomly select 'sample_size' reviews from the cluster\n",
    "    random_sample = random.sample(descriptions, sample_size)\n",
    "    text_sample = \"\\n\".join(random_sample)\n",
    "    # Create a prompt for the model\n",
    "    prompt = (\n",
    "        \"These are product descriptions from one cluster:\\n\\n\" +\n",
    "        text_sample +\n",
    "        \"\\n\\nBased on these reviews, assign a general category (a short label) for this group, \"\n",
    "        \"and explain in detail the key factors or recurring themes that led you to choose this category.\"\n",
    "    )\n",
    "    \n",
    "    response = openai.ChatCompletion.create(\n",
    "        model=\"gpt-4o-mini-2024-07-18\",  # Latest model as requested\n",
    "        messages=[{\"role\": \"user\", \"content\": prompt}],\n",
    "        temperature=0.7,\n",
    "    )\n",
    "    \n",
    "    return response[\"choices\"][0][\"message\"][\"content\"]\n"
   ]
  },
  {
   "cell_type": "code",
   "execution_count": null,
   "id": "6546234b",
   "metadata": {},
   "outputs": [],
   "source": [
    "# Dictionary to hold each cluster's summary and explanation\n",
    "cluster_summaries = {}\n",
    "\n",
    "for cluster_label in sorted(df_1['cluster'].unique()):\n",
    "    # Get all reviews for this cluster as a list\n",
    "    descriptions = df_1[df_1['cluster'] == cluster_label]['clean_desc'].tolist()\n",
    "    summary = categorize_and_explain_cluster(descriptions)\n",
    "    cluster_summaries[cluster_label] = summary\n",
    "    print(f\"\\nCluster {cluster_label} Summary and Explanation:\\n\")\n",
    "    print(summary)"
   ]
  },
  {
   "cell_type": "code",
   "execution_count": 89,
   "id": "163cb19c",
   "metadata": {},
   "outputs": [],
   "source": [
    "cluster_names = {\n",
    "    0: \"Device Malfunctions and Repair Requests\",\n",
    "    1: \"Technical Support Issues with Mobile Devices\",\n",
    "    2: \"Technology Equipment Support and Management\",\n",
    "    3: \"Hardware Malfunctions and Technical Issues\",\n",
    "    4: \"Technical Support Issues in Retail Operations\",\n",
    "    5: \"Technical Device Issues and Support Requests\",\n",
    "}\n",
    "\n",
    "# new column with descriptive cluster names\n",
    "df_1['cluster_name'] = df_1['cluster'].map(cluster_names)\n",
    "\n",
    "\n",
    "\n",
    "# Save the updated DataFrame with descriptive names to CSV\n",
    "df_1.to_csv(\"With_clusters_nameOPENAI.csv\", index=False)"
   ]
  },
  {
   "cell_type": "code",
   "execution_count": 90,
   "id": "b23d8eb3",
   "metadata": {},
   "outputs": [
    {
     "data": {
      "text/html": [
       "<div>\n",
       "<style scoped>\n",
       "    .dataframe tbody tr th:only-of-type {\n",
       "        vertical-align: middle;\n",
       "    }\n",
       "\n",
       "    .dataframe tbody tr th {\n",
       "        vertical-align: top;\n",
       "    }\n",
       "\n",
       "    .dataframe thead th {\n",
       "        text-align: right;\n",
       "    }\n",
       "</style>\n",
       "<table border=\"1\" class=\"dataframe\">\n",
       "  <thead>\n",
       "    <tr style=\"text-align: right;\">\n",
       "      <th></th>\n",
       "      <th>number</th>\n",
       "      <th>short_description</th>\n",
       "      <th>u_region</th>\n",
       "      <th>u_division</th>\n",
       "      <th>cmdb_ci</th>\n",
       "      <th>u_close_code</th>\n",
       "      <th>clean_desc</th>\n",
       "      <th>priority_num</th>\n",
       "      <th>embedding</th>\n",
       "      <th>cluster</th>\n",
       "      <th>cluster_name</th>\n",
       "    </tr>\n",
       "  </thead>\n",
       "  <tbody>\n",
       "    <tr>\n",
       "      <th>0</th>\n",
       "      <td>INC6658799</td>\n",
       "      <td>Mobile Office | My error is not listed / repor...</td>\n",
       "      <td>GB</td>\n",
       "      <td>LDL</td>\n",
       "      <td>ST-MDE</td>\n",
       "      <td>Resolved by Problem Ticket</td>\n",
       "      <td>this ticket was created by a store employee st...</td>\n",
       "      <td>3</td>\n",
       "      <td>[-0.0403446   0.02698302  0.03903169 ... -0.00...</td>\n",
       "      <td>4</td>\n",
       "      <td>Technical Support Issues in Retail Operations</td>\n",
       "    </tr>\n",
       "    <tr>\n",
       "      <th>1</th>\n",
       "      <td>INC7053991</td>\n",
       "      <td>VLC-3056-Mobile Office – PDA Terminal - Honeywell</td>\n",
       "      <td>ES</td>\n",
       "      <td>LDL</td>\n",
       "      <td>ST-MDE</td>\n",
       "      <td>Solved - Error did not appear again</td>\n",
       "      <td>here we have exactly the same incident as it i...</td>\n",
       "      <td>3</td>\n",
       "      <td>[-0.00832309  0.01956657  0.02247426 ... -0.01...</td>\n",
       "      <td>3</td>\n",
       "      <td>Hardware Malfunctions and Technical Issues</td>\n",
       "    </tr>\n",
       "    <tr>\n",
       "      <th>2</th>\n",
       "      <td>INC7170689</td>\n",
       "      <td>LFR - Store 1696 - WH08 - Honeywell Mobile Dev...</td>\n",
       "      <td>FR</td>\n",
       "      <td>LDL</td>\n",
       "      <td>ST-MDE</td>\n",
       "      <td>Works as designed</td>\n",
       "      <td>the mobile device on store warehouse is locked...</td>\n",
       "      <td>3</td>\n",
       "      <td>[-0.00748125  0.03639196 -0.00684808 ...  0.02...</td>\n",
       "      <td>3</td>\n",
       "      <td>Hardware Malfunctions and Technical Issues</td>\n",
       "    </tr>\n",
       "    <tr>\n",
       "      <th>3</th>\n",
       "      <td>INC7181866</td>\n",
       "      <td>Store 2507 - WH11 - Honeywell Mobile Device Lo...</td>\n",
       "      <td>FR</td>\n",
       "      <td>LDL</td>\n",
       "      <td>ST-MDE</td>\n",
       "      <td>Works as designed</td>\n",
       "      <td>mobile device locked in landscape mode since t...</td>\n",
       "      <td>3</td>\n",
       "      <td>[ 0.00082549  0.02529703  0.03505411 ...  0.02...</td>\n",
       "      <td>3</td>\n",
       "      <td>Hardware Malfunctions and Technical Issues</td>\n",
       "    </tr>\n",
       "    <tr>\n",
       "      <th>4</th>\n",
       "      <td>INC7185888</td>\n",
       "      <td>LFR - Store 3660 - WH12 - Honeywell Device - T...</td>\n",
       "      <td>FR</td>\n",
       "      <td>LDL</td>\n",
       "      <td>ST-MDE</td>\n",
       "      <td>Works as designed</td>\n",
       "      <td>since the android update on the honeywell devi...</td>\n",
       "      <td>3</td>\n",
       "      <td>[-0.04337902  0.01684821  0.01982284 ... -0.00...</td>\n",
       "      <td>3</td>\n",
       "      <td>Hardware Malfunctions and Technical Issues</td>\n",
       "    </tr>\n",
       "    <tr>\n",
       "      <th>5</th>\n",
       "      <td>INC7255265</td>\n",
       "      <td>2659 - MUZILLAC - DR07 - INP MOBI # S/N : 2117...</td>\n",
       "      <td>FR</td>\n",
       "      <td>LDL</td>\n",
       "      <td>ST-MDE</td>\n",
       "      <td>Works as designed</td>\n",
       "      <td>lidl exp dition priorit j type avec change ges...</td>\n",
       "      <td>2</td>\n",
       "      <td>[-0.00512237  0.03671644  0.011913   ... -0.01...</td>\n",
       "      <td>2</td>\n",
       "      <td>Technology Equipment Support and Management</td>\n",
       "    </tr>\n",
       "    <tr>\n",
       "      <th>6</th>\n",
       "      <td>INC7300612</td>\n",
       "      <td>0530 - CLERMONT-FERRAND - DR12 - MoBi - perdu ...</td>\n",
       "      <td>FR</td>\n",
       "      <td>LDL</td>\n",
       "      <td>ST-MDE</td>\n",
       "      <td>Works as designed</td>\n",
       "      <td>lidl exp dition type simple priorit j gestion ...</td>\n",
       "      <td>3</td>\n",
       "      <td>[-0.01646094  0.02828854  0.01656456 ... -0.01...</td>\n",
       "      <td>2</td>\n",
       "      <td>Technology Equipment Support and Management</td>\n",
       "    </tr>\n",
       "    <tr>\n",
       "      <th>7</th>\n",
       "      <td>INC7337800</td>\n",
       "      <td>1090 - Lidl-Store: PARIS - DR10 - Mobi - aucun...</td>\n",
       "      <td>FR</td>\n",
       "      <td>LDL</td>\n",
       "      <td>ST-MDE</td>\n",
       "      <td>Works as designed</td>\n",
       "      <td>lidl exp dition priorit j type avec change ges...</td>\n",
       "      <td>3</td>\n",
       "      <td>[-0.0084793   0.04281595  0.01367773 ... -0.01...</td>\n",
       "      <td>2</td>\n",
       "      <td>Technology Equipment Support and Management</td>\n",
       "    </tr>\n",
       "    <tr>\n",
       "      <th>8</th>\n",
       "      <td>INC7345428</td>\n",
       "      <td>3930 - Lidl-Store: BAGNOLET - DR10 - Mobi - Pr...</td>\n",
       "      <td>FR</td>\n",
       "      <td>LDL</td>\n",
       "      <td>ST-MDE</td>\n",
       "      <td>Works as designed</td>\n",
       "      <td>lidl exp dition priorit j type avec change ges...</td>\n",
       "      <td>3</td>\n",
       "      <td>[ 0.0257046   0.04382202  0.010591   ... -0.01...</td>\n",
       "      <td>2</td>\n",
       "      <td>Technology Equipment Support and Management</td>\n",
       "    </tr>\n",
       "    <tr>\n",
       "      <th>9</th>\n",
       "      <td>INC7350179</td>\n",
       "      <td>1155 -   ST GERMAIN VILLAGE Lisieux -  DR11 -...</td>\n",
       "      <td>FR</td>\n",
       "      <td>LDL</td>\n",
       "      <td>ST-MDE</td>\n",
       "      <td>Works as designed</td>\n",
       "      <td>lidl exp dition priorit j type avec change ges...</td>\n",
       "      <td>3</td>\n",
       "      <td>[-0.00625989  0.02914764  0.02187954 ... -0.01...</td>\n",
       "      <td>2</td>\n",
       "      <td>Technology Equipment Support and Management</td>\n",
       "    </tr>\n",
       "  </tbody>\n",
       "</table>\n",
       "</div>"
      ],
      "text/plain": [
       "       number                                  short_description u_region  \\\n",
       "0  INC6658799  Mobile Office | My error is not listed / repor...       GB   \n",
       "1  INC7053991  VLC-3056-Mobile Office – PDA Terminal - Honeywell       ES   \n",
       "2  INC7170689  LFR - Store 1696 - WH08 - Honeywell Mobile Dev...       FR   \n",
       "3  INC7181866  Store 2507 - WH11 - Honeywell Mobile Device Lo...       FR   \n",
       "4  INC7185888  LFR - Store 3660 - WH12 - Honeywell Device - T...       FR   \n",
       "5  INC7255265  2659 - MUZILLAC - DR07 - INP MOBI # S/N : 2117...       FR   \n",
       "6  INC7300612  0530 - CLERMONT-FERRAND - DR12 - MoBi - perdu ...       FR   \n",
       "7  INC7337800  1090 - Lidl-Store: PARIS - DR10 - Mobi - aucun...       FR   \n",
       "8  INC7345428  3930 - Lidl-Store: BAGNOLET - DR10 - Mobi - Pr...       FR   \n",
       "9  INC7350179   1155 -   ST GERMAIN VILLAGE Lisieux -  DR11 -...       FR   \n",
       "\n",
       "  u_division cmdb_ci                         u_close_code  \\\n",
       "0        LDL  ST-MDE           Resolved by Problem Ticket   \n",
       "1        LDL  ST-MDE  Solved - Error did not appear again   \n",
       "2        LDL  ST-MDE                    Works as designed   \n",
       "3        LDL  ST-MDE                    Works as designed   \n",
       "4        LDL  ST-MDE                    Works as designed   \n",
       "5        LDL  ST-MDE                    Works as designed   \n",
       "6        LDL  ST-MDE                    Works as designed   \n",
       "7        LDL  ST-MDE                    Works as designed   \n",
       "8        LDL  ST-MDE                    Works as designed   \n",
       "9        LDL  ST-MDE                    Works as designed   \n",
       "\n",
       "                                          clean_desc  priority_num  \\\n",
       "0  this ticket was created by a store employee st...             3   \n",
       "1  here we have exactly the same incident as it i...             3   \n",
       "2  the mobile device on store warehouse is locked...             3   \n",
       "3  mobile device locked in landscape mode since t...             3   \n",
       "4  since the android update on the honeywell devi...             3   \n",
       "5  lidl exp dition priorit j type avec change ges...             2   \n",
       "6  lidl exp dition type simple priorit j gestion ...             3   \n",
       "7  lidl exp dition priorit j type avec change ges...             3   \n",
       "8  lidl exp dition priorit j type avec change ges...             3   \n",
       "9  lidl exp dition priorit j type avec change ges...             3   \n",
       "\n",
       "                                           embedding  cluster  \\\n",
       "0  [-0.0403446   0.02698302  0.03903169 ... -0.00...        4   \n",
       "1  [-0.00832309  0.01956657  0.02247426 ... -0.01...        3   \n",
       "2  [-0.00748125  0.03639196 -0.00684808 ...  0.02...        3   \n",
       "3  [ 0.00082549  0.02529703  0.03505411 ...  0.02...        3   \n",
       "4  [-0.04337902  0.01684821  0.01982284 ... -0.00...        3   \n",
       "5  [-0.00512237  0.03671644  0.011913   ... -0.01...        2   \n",
       "6  [-0.01646094  0.02828854  0.01656456 ... -0.01...        2   \n",
       "7  [-0.0084793   0.04281595  0.01367773 ... -0.01...        2   \n",
       "8  [ 0.0257046   0.04382202  0.010591   ... -0.01...        2   \n",
       "9  [-0.00625989  0.02914764  0.02187954 ... -0.01...        2   \n",
       "\n",
       "                                    cluster_name  \n",
       "0  Technical Support Issues in Retail Operations  \n",
       "1     Hardware Malfunctions and Technical Issues  \n",
       "2     Hardware Malfunctions and Technical Issues  \n",
       "3     Hardware Malfunctions and Technical Issues  \n",
       "4     Hardware Malfunctions and Technical Issues  \n",
       "5    Technology Equipment Support and Management  \n",
       "6    Technology Equipment Support and Management  \n",
       "7    Technology Equipment Support and Management  \n",
       "8    Technology Equipment Support and Management  \n",
       "9    Technology Equipment Support and Management  "
      ]
     },
     "execution_count": 90,
     "metadata": {},
     "output_type": "execute_result"
    }
   ],
   "source": [
    "df = pd.read_csv('With_clusters_nameOPENAI.csv')\n",
    "df.head(10) "
   ]
  },
  {
   "attachments": {
    "image.png": {
     "image/png": "[encoded data removed]"
    }
   },
   "cell_type": "markdown",
   "id": "726f0701",
   "metadata": {},
   "source": [
    "![image.png](attachment:image.png)"
   ]
  }
 ],
 "metadata": {
  "kernelspec": {
   "display_name": "SentimentMLTEST",
   "language": "python",
   "name": "python3"
  },
  "language_info": {
   "codemirror_mode": {
    "name": "ipython",
    "version": 3
   },
   "file_extension": ".py",
   "mimetype": "text/x-python",
   "name": "python",
   "nbconvert_exporter": "python",
   "pygments_lexer": "ipython3",
   "version": "3.12.2"
  }
 },
 "nbformat": 4,
 "nbformat_minor": 5
}
